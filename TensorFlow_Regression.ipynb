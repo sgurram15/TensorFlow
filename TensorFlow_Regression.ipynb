{
  "nbformat": 4,
  "nbformat_minor": 0,
  "metadata": {
    "colab": {
      "provenance": []
    },
    "kernelspec": {
      "name": "python3",
      "display_name": "Python 3"
    },
    "language_info": {
      "name": "python"
    }
  },
  "cells": [
    {
      "cell_type": "code",
      "execution_count": 29,
      "metadata": {
        "colab": {
          "base_uri": "https://localhost:8080/"
        },
        "id": "GvBkXaKvTwiJ",
        "outputId": "3f740742-441d-4bc1-e2b7-d8e4de943e2a"
      },
      "outputs": [
        {
          "output_type": "stream",
          "name": "stdout",
          "text": [
            "2.15.0\n"
          ]
        }
      ],
      "source": [
        "import pandas as pd\n",
        "import numpy as np\n",
        "import tensorflow as tf\n",
        "import matplotlib.pyplot as plt\n",
        "print(tf.__version__)"
      ]
    },
    {
      "cell_type": "markdown",
      "source": [
        "#Introduction to Regression with Nueral Netwoek in Tensorflow"
      ],
      "metadata": {
        "id": "R9pg3wMKVm2I"
      }
    },
    {
      "cell_type": "code",
      "source": [
        "#Create features\n",
        "X=np.array([-7.0,-4.0,-1.0,2.0,5.0,8.0,11.0,14.0,15,16,17,18,19,20,22])\n",
        "\n",
        "y=np.array([3.0,6.0,9.0,12.0,15.0,18.0,21.0,24.0,25,26,27,28,29,30,32])\n",
        "plt.figure(figsize=(3,2))\n",
        "plt.scatter(X,y);"
      ],
      "metadata": {
        "colab": {
          "base_uri": "https://localhost:8080/",
          "height": 214
        },
        "id": "DvnuOiUxYQd_",
        "outputId": "3f7ec875-c28f-4988-bac4-c8def19c55bf"
      },
      "execution_count": 30,
      "outputs": [
        {
          "output_type": "display_data",
          "data": {
            "text/plain": [
              "<Figure size 300x200 with 1 Axes>"
            ],
            "image/png": "[encoded data removed]"
          },
          "metadata": {}
        }
      ]
    },
    {
      "cell_type": "code",
      "source": [
        "y==X+10"
      ],
      "metadata": {
        "colab": {
          "base_uri": "https://localhost:8080/"
        },
        "id": "E1uWU991Y5mi",
        "outputId": "41b9593a-db30-45ba-f13c-8b2c92cd466d"
      },
      "execution_count": 31,
      "outputs": [
        {
          "output_type": "execute_result",
          "data": {
            "text/plain": [
              "array([ True,  True,  True,  True,  True,  True,  True,  True,  True,\n",
              "        True,  True,  True,  True,  True,  True])"
            ]
          },
          "metadata": {},
          "execution_count": 31
        }
      ]
    },
    {
      "cell_type": "code",
      "source": [
        "house_info = tf.constant([\"bedroom\",\"bathroom\",\"garage\"])\n",
        "house_price = tf.constant([939700])\n",
        "house_info,house_price"
      ],
      "metadata": {
        "colab": {
          "base_uri": "https://localhost:8080/"
        },
        "id": "YCxy6UfrZWDr",
        "outputId": "7ff69f3a-f2ae-4a01-946e-669bf612f976"
      },
      "execution_count": 32,
      "outputs": [
        {
          "output_type": "execute_result",
          "data": {
            "text/plain": [
              "(<tf.Tensor: shape=(3,), dtype=string, numpy=array([b'bedroom', b'bathroom', b'garage'], dtype=object)>,\n",
              " <tf.Tensor: shape=(1,), dtype=int32, numpy=array([939700], dtype=int32)>)"
            ]
          },
          "metadata": {},
          "execution_count": 32
        }
      ]
    },
    {
      "cell_type": "code",
      "source": [
        "input_shape= X[0].shape\n",
        "output_shape= y[0].shape\n",
        "input_shape,output_shape"
      ],
      "metadata": {
        "colab": {
          "base_uri": "https://localhost:8080/"
        },
        "id": "pspmCPV5Z04s",
        "outputId": "7f5f6896-a566-428a-a3ca-a9acb3d52a76"
      },
      "execution_count": 33,
      "outputs": [
        {
          "output_type": "execute_result",
          "data": {
            "text/plain": [
              "((), ())"
            ]
          },
          "metadata": {},
          "execution_count": 33
        }
      ]
    },
    {
      "cell_type": "code",
      "source": [
        "X= tf.constant(X)\n",
        "y= tf.constant(y)\n",
        "X,y"
      ],
      "metadata": {
        "colab": {
          "base_uri": "https://localhost:8080/"
        },
        "id": "Hfg0d_7YZ_v8",
        "outputId": "10f5eada-8069-460f-c26c-f0d6d45f2c5b"
      },
      "execution_count": 34,
      "outputs": [
        {
          "output_type": "execute_result",
          "data": {
            "text/plain": [
              "(<tf.Tensor: shape=(15,), dtype=float64, numpy=\n",
              " array([-7., -4., -1.,  2.,  5.,  8., 11., 14., 15., 16., 17., 18., 19.,\n",
              "        20., 22.])>,\n",
              " <tf.Tensor: shape=(15,), dtype=float64, numpy=\n",
              " array([ 3.,  6.,  9., 12., 15., 18., 21., 24., 25., 26., 27., 28., 29.,\n",
              "        30., 32.])>)"
            ]
          },
          "metadata": {},
          "execution_count": 34
        }
      ]
    },
    {
      "cell_type": "code",
      "source": [
        "tf.random.set_seed(42)\n",
        "\n",
        "## Try improving the function by adding more laters, adding activation function , add more nuerons\n",
        "model= tf.keras.Sequential([\n",
        "       tf.keras.layers.Dense(1)\n",
        "\n",
        "])\n",
        "# try changing the optimizer to SGD, Adam , others. Add learning rates\n",
        "model.compile(loss=tf.keras.losses.mae,\n",
        "              optimizer= tf.keras.optimizers.Adam(lr=0.01),\n",
        "              metrics = [\"mae\"])\n",
        "\n",
        "## Try adding /changing epochs ,\n",
        "# give more data\n",
        "# split the data into subsets before upgrading to larger model\n",
        "#try all different parametersk\n",
        "model.fit(tf.expand_dims(X, axis=-1), y, epochs=5)"
      ],
      "metadata": {
        "colab": {
          "base_uri": "https://localhost:8080/"
        },
        "id": "8nSEFqrVawhr",
        "outputId": "e83389bb-d9e6-4afa-d783-fffe7d75993b"
      },
      "execution_count": 35,
      "outputs": [
        {
          "output_type": "stream",
          "name": "stderr",
          "text": [
            "WARNING:absl:`lr` is deprecated in Keras optimizer, please use `learning_rate` or use the legacy optimizer, e.g.,tf.keras.optimizers.legacy.Adam.\n"
          ]
        },
        {
          "output_type": "stream",
          "name": "stdout",
          "text": [
            "Epoch 1/5\n",
            "1/1 [==============================] - 1s 634ms/step - loss: 35.1244 - mae: 35.1244\n",
            "Epoch 2/5\n",
            "1/1 [==============================] - 0s 10ms/step - loss: 35.1123 - mae: 35.1123\n",
            "Epoch 3/5\n",
            "1/1 [==============================] - 0s 10ms/step - loss: 35.1001 - mae: 35.1001\n",
            "Epoch 4/5\n",
            "1/1 [==============================] - 0s 9ms/step - loss: 35.0880 - mae: 35.0880\n",
            "Epoch 5/5\n",
            "1/1 [==============================] - 0s 9ms/step - loss: 35.0759 - mae: 35.0759\n"
          ]
        },
        {
          "output_type": "execute_result",
          "data": {
            "text/plain": [
              "<keras.src.callbacks.History at 0x7bb58275d7e0>"
            ]
          },
          "metadata": {},
          "execution_count": 35
        }
      ]
    },
    {
      "cell_type": "code",
      "source": [
        "model.predict([17.0])"
      ],
      "metadata": {
        "colab": {
          "base_uri": "https://localhost:8080/"
        },
        "id": "Talc8D6fc3Eq",
        "outputId": "b0aefbf7-2761-4dfb-dcca-cc40c7b6b3fc"
      },
      "execution_count": 23,
      "outputs": [
        {
          "output_type": "stream",
          "name": "stdout",
          "text": [
            "1/1 [==============================] - 0s 123ms/step\n"
          ]
        },
        {
          "output_type": "execute_result",
          "data": {
            "text/plain": [
              "array([[4.749301]], dtype=float32)"
            ]
          },
          "metadata": {},
          "execution_count": 23
        }
      ]
    },
    {
      "cell_type": "code",
      "source": [
        "model= tf.keras.Sequential([\n",
        "    tf.keras.layers.Dense(50,activation=None),\n",
        "    tf.keras.layers.Dense(1)\n",
        "])\n",
        "\n",
        "model.compile(loss = tf.keras.losses.mae,\n",
        "              optimizer=tf.keras.optimizers.Adam(lr=0.01),\n",
        "              metrics=[\"mae\"])\n",
        "\n",
        "model.fit(tf.expand_dims(X, axis=-1), y, epochs=50)"
      ],
      "metadata": {
        "id": "TRXoSSkrfCvb",
        "colab": {
          "base_uri": "https://localhost:8080/"
        },
        "outputId": "4829b67f-e559-4ab3-fa45-1854a824f894"
      },
      "execution_count": 24,
      "outputs": [
        {
          "output_type": "stream",
          "name": "stderr",
          "text": [
            "WARNING:absl:`lr` is deprecated in Keras optimizer, please use `learning_rate` or use the legacy optimizer, e.g.,tf.keras.optimizers.legacy.Adam.\n"
          ]
        },
        {
          "output_type": "stream",
          "name": "stdout",
          "text": [
            "Epoch 1/50\n",
            "1/1 [==============================] - 1s 983ms/step - loss: 19.8056 - mae: 19.8056\n",
            "Epoch 2/50\n",
            "1/1 [==============================] - 0s 17ms/step - loss: 19.6300 - mae: 19.6300\n",
            "Epoch 3/50\n",
            "1/1 [==============================] - 0s 14ms/step - loss: 19.4544 - mae: 19.4544\n",
            "Epoch 4/50\n",
            "1/1 [==============================] - 0s 13ms/step - loss: 19.2787 - mae: 19.2787\n",
            "Epoch 5/50\n",
            "1/1 [==============================] - 0s 16ms/step - loss: 19.1031 - mae: 19.1031\n",
            "Epoch 6/50\n",
            "1/1 [==============================] - 0s 12ms/step - loss: 18.9275 - mae: 18.9275\n",
            "Epoch 7/50\n",
            "1/1 [==============================] - 0s 13ms/step - loss: 18.7518 - mae: 18.7518\n",
            "Epoch 8/50\n",
            "1/1 [==============================] - 0s 10ms/step - loss: 18.5760 - mae: 18.5760\n",
            "Epoch 9/50\n",
            "1/1 [==============================] - 0s 11ms/step - loss: 18.4002 - mae: 18.4002\n",
            "Epoch 10/50\n",
            "1/1 [==============================] - 0s 12ms/step - loss: 18.2244 - mae: 18.2244\n",
            "Epoch 11/50\n",
            "1/1 [==============================] - 0s 14ms/step - loss: 18.0484 - mae: 18.0484\n",
            "Epoch 12/50\n",
            "1/1 [==============================] - 0s 13ms/step - loss: 17.8724 - mae: 17.8724\n",
            "Epoch 13/50\n",
            "1/1 [==============================] - 0s 12ms/step - loss: 17.6962 - mae: 17.6962\n",
            "Epoch 14/50\n",
            "1/1 [==============================] - 0s 12ms/step - loss: 17.5198 - mae: 17.5198\n",
            "Epoch 15/50\n",
            "1/1 [==============================] - 0s 12ms/step - loss: 17.3434 - mae: 17.3434\n",
            "Epoch 16/50\n",
            "1/1 [==============================] - 0s 16ms/step - loss: 17.1667 - mae: 17.1667\n",
            "Epoch 17/50\n",
            "1/1 [==============================] - 0s 12ms/step - loss: 16.9899 - mae: 16.9899\n",
            "Epoch 18/50\n",
            "1/1 [==============================] - 0s 10ms/step - loss: 16.8129 - mae: 16.8129\n",
            "Epoch 19/50\n",
            "1/1 [==============================] - 0s 11ms/step - loss: 16.6357 - mae: 16.6357\n",
            "Epoch 20/50\n",
            "1/1 [==============================] - 0s 11ms/step - loss: 16.4582 - mae: 16.4582\n",
            "Epoch 21/50\n",
            "1/1 [==============================] - 0s 10ms/step - loss: 16.2805 - mae: 16.2805\n",
            "Epoch 22/50\n",
            "1/1 [==============================] - 0s 13ms/step - loss: 16.1025 - mae: 16.1025\n",
            "Epoch 23/50\n",
            "1/1 [==============================] - 0s 12ms/step - loss: 15.9243 - mae: 15.9243\n",
            "Epoch 24/50\n",
            "1/1 [==============================] - 0s 10ms/step - loss: 15.7458 - mae: 15.7458\n",
            "Epoch 25/50\n",
            "1/1 [==============================] - 0s 10ms/step - loss: 15.5669 - mae: 15.5669\n",
            "Epoch 26/50\n",
            "1/1 [==============================] - 0s 12ms/step - loss: 15.3878 - mae: 15.3878\n",
            "Epoch 27/50\n",
            "1/1 [==============================] - 0s 13ms/step - loss: 15.2083 - mae: 15.2083\n",
            "Epoch 28/50\n",
            "1/1 [==============================] - 0s 16ms/step - loss: 15.0284 - mae: 15.0284\n",
            "Epoch 29/50\n",
            "1/1 [==============================] - 0s 14ms/step - loss: 14.8482 - mae: 14.8482\n",
            "Epoch 30/50\n",
            "1/1 [==============================] - 0s 12ms/step - loss: 14.6675 - mae: 14.6675\n",
            "Epoch 31/50\n",
            "1/1 [==============================] - 0s 11ms/step - loss: 14.4865 - mae: 14.4865\n",
            "Epoch 32/50\n",
            "1/1 [==============================] - 0s 13ms/step - loss: 14.3051 - mae: 14.3051\n",
            "Epoch 33/50\n",
            "1/1 [==============================] - 0s 11ms/step - loss: 14.1232 - mae: 14.1232\n",
            "Epoch 34/50\n",
            "1/1 [==============================] - 0s 11ms/step - loss: 13.9409 - mae: 13.9409\n",
            "Epoch 35/50\n",
            "1/1 [==============================] - 0s 9ms/step - loss: 13.7581 - mae: 13.7581\n",
            "Epoch 36/50\n",
            "1/1 [==============================] - 0s 11ms/step - loss: 13.5749 - mae: 13.5749\n",
            "Epoch 37/50\n",
            "1/1 [==============================] - 0s 13ms/step - loss: 13.3911 - mae: 13.3911\n",
            "Epoch 38/50\n",
            "1/1 [==============================] - 0s 12ms/step - loss: 13.2068 - mae: 13.2068\n",
            "Epoch 39/50\n",
            "1/1 [==============================] - 0s 11ms/step - loss: 13.0220 - mae: 13.0220\n",
            "Epoch 40/50\n",
            "1/1 [==============================] - 0s 12ms/step - loss: 12.8367 - mae: 12.8367\n",
            "Epoch 41/50\n",
            "1/1 [==============================] - 0s 13ms/step - loss: 12.6507 - mae: 12.6507\n",
            "Epoch 42/50\n",
            "1/1 [==============================] - 0s 12ms/step - loss: 12.4642 - mae: 12.4642\n",
            "Epoch 43/50\n",
            "1/1 [==============================] - 0s 11ms/step - loss: 12.2771 - mae: 12.2771\n",
            "Epoch 44/50\n",
            "1/1 [==============================] - 0s 16ms/step - loss: 12.0894 - mae: 12.0894\n",
            "Epoch 45/50\n",
            "1/1 [==============================] - 0s 13ms/step - loss: 11.9010 - mae: 11.9010\n",
            "Epoch 46/50\n",
            "1/1 [==============================] - 0s 14ms/step - loss: 11.7120 - mae: 11.7120\n",
            "Epoch 47/50\n",
            "1/1 [==============================] - 0s 13ms/step - loss: 11.5223 - mae: 11.5223\n",
            "Epoch 48/50\n",
            "1/1 [==============================] - 0s 15ms/step - loss: 11.3320 - mae: 11.3320\n",
            "Epoch 49/50\n",
            "1/1 [==============================] - 0s 12ms/step - loss: 11.1409 - mae: 11.1409\n",
            "Epoch 50/50\n",
            "1/1 [==============================] - 0s 11ms/step - loss: 10.9491 - mae: 10.9491\n"
          ]
        },
        {
          "output_type": "execute_result",
          "data": {
            "text/plain": [
              "<keras.src.callbacks.History at 0x7bb582b7f640>"
            ]
          },
          "metadata": {},
          "execution_count": 24
        }
      ]
    },
    {
      "cell_type": "code",
      "source": [
        "model.predict([17.0])"
      ],
      "metadata": {
        "colab": {
          "base_uri": "https://localhost:8080/"
        },
        "id": "dwjF4FlUiliu",
        "outputId": "56f8fc2d-4992-4f0f-f914-7c54a5e94141"
      },
      "execution_count": 25,
      "outputs": [
        {
          "output_type": "stream",
          "name": "stdout",
          "text": [
            "1/1 [==============================] - 0s 97ms/step\n"
          ]
        },
        {
          "output_type": "execute_result",
          "data": {
            "text/plain": [
              "array([[15.445122]], dtype=float32)"
            ]
          },
          "metadata": {},
          "execution_count": 25
        }
      ]
    },
    {
      "cell_type": "code",
      "source": [
        "# Try setting up a new data set\n",
        "\n",
        "X= tf.range(10 , 1000 , 4)\n",
        "X\n",
        "len(X)"
      ],
      "metadata": {
        "colab": {
          "base_uri": "https://localhost:8080/"
        },
        "id": "sIthKmMYjf2a",
        "outputId": "54ac43b7-b6a4-44c9-bd99-997fc9dc8980"
      },
      "execution_count": 26,
      "outputs": [
        {
          "output_type": "execute_result",
          "data": {
            "text/plain": [
              "248"
            ]
          },
          "metadata": {},
          "execution_count": 26
        }
      ]
    },
    {
      "cell_type": "code",
      "source": [
        "# make labels\n",
        "y=X+10\n",
        "y"
      ],
      "metadata": {
        "colab": {
          "base_uri": "https://localhost:8080/"
        },
        "id": "TlOat4sGspmp",
        "outputId": "7aa80907-04ae-4b05-a832-5d586c1d90e4"
      },
      "execution_count": 27,
      "outputs": [
        {
          "output_type": "execute_result",
          "data": {
            "text/plain": [
              "<tf.Tensor: shape=(248,), dtype=int32, numpy=\n",
              "array([  20,   24,   28,   32,   36,   40,   44,   48,   52,   56,   60,\n",
              "         64,   68,   72,   76,   80,   84,   88,   92,   96,  100,  104,\n",
              "        108,  112,  116,  120,  124,  128,  132,  136,  140,  144,  148,\n",
              "        152,  156,  160,  164,  168,  172,  176,  180,  184,  188,  192,\n",
              "        196,  200,  204,  208,  212,  216,  220,  224,  228,  232,  236,\n",
              "        240,  244,  248,  252,  256,  260,  264,  268,  272,  276,  280,\n",
              "        284,  288,  292,  296,  300,  304,  308,  312,  316,  320,  324,\n",
              "        328,  332,  336,  340,  344,  348,  352,  356,  360,  364,  368,\n",
              "        372,  376,  380,  384,  388,  392,  396,  400,  404,  408,  412,\n",
              "        416,  420,  424,  428,  432,  436,  440,  444,  448,  452,  456,\n",
              "        460,  464,  468,  472,  476,  480,  484,  488,  492,  496,  500,\n",
              "        504,  508,  512,  516,  520,  524,  528,  532,  536,  540,  544,\n",
              "        548,  552,  556,  560,  564,  568,  572,  576,  580,  584,  588,\n",
              "        592,  596,  600,  604,  608,  612,  616,  620,  624,  628,  632,\n",
              "        636,  640,  644,  648,  652,  656,  660,  664,  668,  672,  676,\n",
              "        680,  684,  688,  692,  696,  700,  704,  708,  712,  716,  720,\n",
              "        724,  728,  732,  736,  740,  744,  748,  752,  756,  760,  764,\n",
              "        768,  772,  776,  780,  784,  788,  792,  796,  800,  804,  808,\n",
              "        812,  816,  820,  824,  828,  832,  836,  840,  844,  848,  852,\n",
              "        856,  860,  864,  868,  872,  876,  880,  884,  888,  892,  896,\n",
              "        900,  904,  908,  912,  916,  920,  924,  928,  932,  936,  940,\n",
              "        944,  948,  952,  956,  960,  964,  968,  972,  976,  980,  984,\n",
              "        988,  992,  996, 1000, 1004, 1008], dtype=int32)>"
            ]
          },
          "metadata": {},
          "execution_count": 27
        }
      ]
    },
    {
      "cell_type": "code",
      "source": [
        "plt.scatter(X,y)"
      ],
      "metadata": {
        "colab": {
          "base_uri": "https://localhost:8080/",
          "height": 447
        },
        "id": "ATnrdxp2swyg",
        "outputId": "7d0fcf97-a5cd-488a-e83a-2e6b0f8da27a"
      },
      "execution_count": 28,
      "outputs": [
        {
          "output_type": "execute_result",
          "data": {
            "text/plain": [
              "<matplotlib.collections.PathCollection at 0x7bb5828acdc0>"
            ]
          },
          "metadata": {},
          "execution_count": 28
        },
        {
          "output_type": "display_data",
          "data": {
            "text/plain": [
              "<Figure size 640x480 with 1 Axes>"
            ],
            "image/png": "[encoded data removed]"
          },
          "metadata": {}
        }
      ]
    },
    {
      "cell_type": "code",
      "source": [
        "\n",
        "X= tf.range(-10 , 1000 , 4)\n",
        "y=X+10"
      ],
      "metadata": {
        "id": "H5JEywGQCIhH"
      },
      "execution_count": 124,
      "outputs": []
    },
    {
      "cell_type": "code",
      "source": [
        "X_train = X[:40]\n",
        "y_train =  y[:40]\n",
        "X_test = X[40:]\n",
        "y_test  = y[40:]\n",
        "len(X_train),len(X_test),len(y_train),len(y_test),len(X),len(y)\n",
        ""
      ],
      "metadata": {
        "id": "-XJliaIFs3Kz",
        "colab": {
          "base_uri": "https://localhost:8080/"
        },
        "outputId": "0c4a629d-0c5c-4ab8-f47c-26ad24316aad"
      },
      "execution_count": 125,
      "outputs": [
        {
          "output_type": "execute_result",
          "data": {
            "text/plain": [
              "(40, 213, 40, 213, 253, 253)"
            ]
          },
          "metadata": {},
          "execution_count": 125
        }
      ]
    },
    {
      "cell_type": "code",
      "source": [
        "model= tf.keras.Sequential([\n",
        "    tf.keras.layers.Dense(50,input_shape =[1] , activation=None),\n",
        "    tf.keras.layers.Dense(1, activation=None),\n",
        "])\n",
        "\n",
        "model.compile(loss = tf.keras.losses.mae,\n",
        "              optimizer=tf.keras.optimizers.SGD(),\n",
        "              metrics=[\"mae\"])\n",
        "\n",
        "model.fit(tf.expand_dims(X_train, axis=-1), y_train, epochs=50,verbose=1)"
      ],
      "metadata": {
        "colab": {
          "base_uri": "https://localhost:8080/"
        },
        "id": "43hOzMumJbG2",
        "outputId": "9fc4b54f-c663-4f2b-e422-02554abe2882"
      },
      "execution_count": 187,
      "outputs": [
        {
          "output_type": "stream",
          "name": "stdout",
          "text": [
            "Epoch 1/50\n",
            "2/2 [==============================] - 1s 11ms/step - loss: 40.4364 - mae: 40.4364\n",
            "Epoch 2/50\n",
            "2/2 [==============================] - 0s 13ms/step - loss: 30.9033 - mae: 30.9033\n",
            "Epoch 3/50\n",
            "2/2 [==============================] - 0s 9ms/step - loss: 34.1416 - mae: 34.1416\n",
            "Epoch 4/50\n",
            "2/2 [==============================] - 0s 11ms/step - loss: 18.0602 - mae: 18.0602\n",
            "Epoch 5/50\n",
            "2/2 [==============================] - 0s 8ms/step - loss: 24.1253 - mae: 24.1253\n",
            "Epoch 6/50\n",
            "2/2 [==============================] - 0s 8ms/step - loss: 10.7381 - mae: 10.7381\n",
            "Epoch 7/50\n",
            "2/2 [==============================] - 0s 8ms/step - loss: 11.7945 - mae: 11.7945\n",
            "Epoch 8/50\n",
            "2/2 [==============================] - 0s 8ms/step - loss: 12.2109 - mae: 12.2109\n",
            "Epoch 9/50\n",
            "2/2 [==============================] - 0s 8ms/step - loss: 38.5090 - mae: 38.5090\n",
            "Epoch 10/50\n",
            "2/2 [==============================] - 0s 9ms/step - loss: 26.0171 - mae: 26.0171\n",
            "Epoch 11/50\n",
            "2/2 [==============================] - 0s 8ms/step - loss: 10.2709 - mae: 10.2709\n",
            "Epoch 12/50\n",
            "2/2 [==============================] - 0s 11ms/step - loss: 25.2223 - mae: 25.2223\n",
            "Epoch 13/50\n",
            "2/2 [==============================] - 0s 8ms/step - loss: 17.6831 - mae: 17.6831\n",
            "Epoch 14/50\n",
            "2/2 [==============================] - 0s 8ms/step - loss: 23.8762 - mae: 23.8762\n",
            "Epoch 15/50\n",
            "2/2 [==============================] - 0s 11ms/step - loss: 15.8952 - mae: 15.8952\n",
            "Epoch 16/50\n",
            "2/2 [==============================] - 0s 7ms/step - loss: 10.4918 - mae: 10.4918\n",
            "Epoch 17/50\n",
            "2/2 [==============================] - 0s 7ms/step - loss: 19.8180 - mae: 19.8180\n",
            "Epoch 18/50\n",
            "2/2 [==============================] - 0s 8ms/step - loss: 13.4100 - mae: 13.4100\n",
            "Epoch 19/50\n",
            "2/2 [==============================] - 0s 7ms/step - loss: 16.4417 - mae: 16.4417\n",
            "Epoch 20/50\n",
            "2/2 [==============================] - 0s 9ms/step - loss: 8.2593 - mae: 8.2593\n",
            "Epoch 21/50\n",
            "2/2 [==============================] - 0s 7ms/step - loss: 14.4485 - mae: 14.4485\n",
            "Epoch 22/50\n",
            "2/2 [==============================] - 0s 7ms/step - loss: 12.8624 - mae: 12.8624\n",
            "Epoch 23/50\n",
            "2/2 [==============================] - 0s 7ms/step - loss: 15.5027 - mae: 15.5027\n",
            "Epoch 24/50\n",
            "2/2 [==============================] - 0s 7ms/step - loss: 15.2923 - mae: 15.2923\n",
            "Epoch 25/50\n",
            "2/2 [==============================] - 0s 7ms/step - loss: 14.3631 - mae: 14.3631\n",
            "Epoch 26/50\n",
            "2/2 [==============================] - 0s 7ms/step - loss: 19.3784 - mae: 19.3784\n",
            "Epoch 27/50\n",
            "2/2 [==============================] - 0s 8ms/step - loss: 11.4518 - mae: 11.4518\n",
            "Epoch 28/50\n",
            "2/2 [==============================] - 0s 8ms/step - loss: 28.9913 - mae: 28.9913\n",
            "Epoch 29/50\n",
            "2/2 [==============================] - 0s 8ms/step - loss: 9.2645 - mae: 9.2645\n",
            "Epoch 30/50\n",
            "2/2 [==============================] - 0s 8ms/step - loss: 29.7421 - mae: 29.7421\n",
            "Epoch 31/50\n",
            "2/2 [==============================] - 0s 8ms/step - loss: 53.9575 - mae: 53.9575\n",
            "Epoch 32/50\n",
            "2/2 [==============================] - 0s 10ms/step - loss: 9.5627 - mae: 9.5627\n",
            "Epoch 33/50\n",
            "2/2 [==============================] - 0s 8ms/step - loss: 12.1498 - mae: 12.1498\n",
            "Epoch 34/50\n",
            "2/2 [==============================] - 0s 8ms/step - loss: 23.7778 - mae: 23.7778\n",
            "Epoch 35/50\n",
            "2/2 [==============================] - 0s 8ms/step - loss: 12.6530 - mae: 12.6530\n",
            "Epoch 36/50\n",
            "2/2 [==============================] - 0s 11ms/step - loss: 21.5848 - mae: 21.5848\n",
            "Epoch 37/50\n",
            "2/2 [==============================] - 0s 9ms/step - loss: 11.3485 - mae: 11.3485\n",
            "Epoch 38/50\n",
            "2/2 [==============================] - 0s 8ms/step - loss: 13.3948 - mae: 13.3948\n",
            "Epoch 39/50\n",
            "2/2 [==============================] - 0s 10ms/step - loss: 10.7646 - mae: 10.7646\n",
            "Epoch 40/50\n",
            "2/2 [==============================] - 0s 9ms/step - loss: 16.1997 - mae: 16.1997\n",
            "Epoch 41/50\n",
            "2/2 [==============================] - 0s 9ms/step - loss: 12.2036 - mae: 12.2036\n",
            "Epoch 42/50\n",
            "2/2 [==============================] - 0s 10ms/step - loss: 10.2329 - mae: 10.2329\n",
            "Epoch 43/50\n",
            "2/2 [==============================] - 0s 11ms/step - loss: 9.9087 - mae: 9.9087\n",
            "Epoch 44/50\n",
            "2/2 [==============================] - 0s 11ms/step - loss: 31.5602 - mae: 31.5602\n",
            "Epoch 45/50\n",
            "2/2 [==============================] - 0s 8ms/step - loss: 12.2840 - mae: 12.2840\n",
            "Epoch 46/50\n",
            "2/2 [==============================] - 0s 8ms/step - loss: 16.9656 - mae: 16.9656\n",
            "Epoch 47/50\n",
            "2/2 [==============================] - 0s 8ms/step - loss: 15.9637 - mae: 15.9637\n",
            "Epoch 48/50\n",
            "2/2 [==============================] - 0s 8ms/step - loss: 8.9016 - mae: 8.9016\n",
            "Epoch 49/50\n",
            "2/2 [==============================] - 0s 8ms/step - loss: 13.4263 - mae: 13.4263\n",
            "Epoch 50/50\n",
            "2/2 [==============================] - 0s 8ms/step - loss: 14.9697 - mae: 14.9697\n"
          ]
        },
        {
          "output_type": "execute_result",
          "data": {
            "text/plain": [
              "<keras.src.callbacks.History at 0x7bb573e58640>"
            ]
          },
          "metadata": {},
          "execution_count": 187
        }
      ]
    },
    {
      "cell_type": "code",
      "source": [
        "model.summary()"
      ],
      "metadata": {
        "id": "3wHGO-NVL74X",
        "outputId": "7c7cbaf6-188b-40be-d56a-e0866ea53e51",
        "colab": {
          "base_uri": "https://localhost:8080/"
        }
      },
      "execution_count": 188,
      "outputs": [
        {
          "output_type": "stream",
          "name": "stdout",
          "text": [
            "Model: \"sequential_19\"\n",
            "_________________________________________________________________\n",
            " Layer (type)                Output Shape              Param #   \n",
            "=================================================================\n",
            " dense_25 (Dense)            (None, 50)                100       \n",
            "                                                                 \n",
            " dense_26 (Dense)            (None, 1)                 51        \n",
            "                                                                 \n",
            "=================================================================\n",
            "Total params: 151 (604.00 Byte)\n",
            "Trainable params: 151 (604.00 Byte)\n",
            "Non-trainable params: 0 (0.00 Byte)\n",
            "_________________________________________________________________\n"
          ]
        }
      ]
    },
    {
      "cell_type": "code",
      "source": [
        "y_pred = model.predict(X_test)\n",
        "y_pred.shape,y_test.shape"
      ],
      "metadata": {
        "id": "Yi9Kyol4L--f",
        "colab": {
          "base_uri": "https://localhost:8080/"
        },
        "outputId": "31654dab-a7f5-4e39-9caf-912f29ed2f36"
      },
      "execution_count": 189,
      "outputs": [
        {
          "output_type": "stream",
          "name": "stdout",
          "text": [
            "1/1 [==============================] - 0s 63ms/step\n"
          ]
        },
        {
          "output_type": "execute_result",
          "data": {
            "text/plain": [
              "((10, 1), TensorShape([10]))"
            ]
          },
          "metadata": {},
          "execution_count": 189
        }
      ]
    },
    {
      "cell_type": "code",
      "source": [
        "y_test.ndim,y_pred.ndim"
      ],
      "metadata": {
        "colab": {
          "base_uri": "https://localhost:8080/"
        },
        "id": "Z1vPOrdQlvK9",
        "outputId": "9fd4540a-0e3d-483f-dcbf-d0bf217600c1"
      },
      "execution_count": 190,
      "outputs": [
        {
          "output_type": "execute_result",
          "data": {
            "text/plain": [
              "(1, 2)"
            ]
          },
          "metadata": {},
          "execution_count": 190
        }
      ]
    },
    {
      "cell_type": "code",
      "source": [
        "X_test.dtype,y_test.dtype,y_pred.dtype,y_train.dtype,y_test.ndim,y_pred.ndim,len(y_test),len(X_test),len(y_pred)\n",
        "\n"
      ],
      "metadata": {
        "colab": {
          "base_uri": "https://localhost:8080/"
        },
        "id": "tPEmAs4D1jWv",
        "outputId": "4752ad88-0b24-47dc-b47a-fdf52427d9b6"
      },
      "execution_count": 186,
      "outputs": [
        {
          "output_type": "execute_result",
          "data": {
            "text/plain": [
              "(tf.int32, tf.int32, dtype('float32'), tf.int32, 1, 2, 10, 10, 213)"
            ]
          },
          "metadata": {},
          "execution_count": 186
        }
      ]
    },
    {
      "cell_type": "code",
      "source": [
        " #Plot function to compare training , test and predictions\n",
        "def plot_predictions(train_data = X_train,\n",
        "                      train_labels = y_train,\n",
        "                      test_data = X_test,\n",
        "                      test_labels = y_test,\n",
        "                      predictions =y_pred) :\n",
        "      plt.figure(figsize=(12,7))\n",
        "      plt.scatter(train_data,train_labels,c=\"b\",label=\"Training data\")\n",
        "      plt.scatter(test_data,test_labels,c=\"g\",label=\"Test data\")\n",
        "      plt.scatter(test_data,y_pred,c=\"r\",label=\"Predictions\")\n",
        "      plt.legend();"
      ],
      "metadata": {
        "id": "pKoiu7zD12sh"
      },
      "execution_count": 191,
      "outputs": []
    },
    {
      "cell_type": "code",
      "source": [
        "plot_predictions(train_data = X_train,\n",
        "                 train_labels = y_train,\n",
        "                 test_data = X_test,\n",
        "                 test_labels = y_test,\n",
        "                 predictions =y_pred)"
      ],
      "metadata": {
        "colab": {
          "base_uri": "https://localhost:8080/",
          "height": 420
        },
        "id": "iiNGi0X6GBsr",
        "outputId": "41e2fcf3-cabc-405e-e7f7-90f6d92f47ef"
      },
      "execution_count": 192,
      "outputs": [
        {
          "output_type": "display_data",
          "data": {
            "text/plain": [
              "<Figure size 1200x700 with 1 Axes>"
            ],
            "image/png": "[encoded data removed]"
          },
          "metadata": {}
        }
      ]
    },
    {
      "cell_type": "code",
      "source": [
        "model.evaluate(X_test,y_test)"
      ],
      "metadata": {
        "colab": {
          "base_uri": "https://localhost:8080/"
        },
        "id": "5MThSODwGMSn",
        "outputId": "d948274c-023f-45f8-daad-1722e4b31f26"
      },
      "execution_count": 77,
      "outputs": [
        {
          "output_type": "stream",
          "name": "stdout",
          "text": [
            "7/7 [==============================] - 0s 2ms/step - loss: 44.2001 - mae: 44.2001\n"
          ]
        },
        {
          "output_type": "execute_result",
          "data": {
            "text/plain": [
              "[44.200111389160156, 44.200111389160156]"
            ]
          },
          "metadata": {},
          "execution_count": 77
        }
      ]
    },
    {
      "cell_type": "code",
      "source": [
        "loss = tf.metrics.mean_absolute_error(y_test,tf.squeeze(y_pred))"
      ],
      "metadata": {
        "colab": {
          "base_uri": "https://localhost:8080/",
          "height": 339
        },
        "id": "y9eut2Z6_pXz",
        "outputId": "635f8fb8-ce1a-410d-95c7-a370ef9eb884"
      },
      "execution_count": 76,
      "outputs": [
        {
          "output_type": "error",
          "ename": "InvalidArgumentError",
          "evalue": "{{function_node __wrapped__Sub_device_/job:localhost/replica:0/task:0/device:CPU:0}} Incompatible shapes: [10650] vs. [213] [Op:Sub] name: ",
          "traceback": [
            "\u001b[0;31m---------------------------------------------------------------------------\u001b[0m",
            "\u001b[0;31mInvalidArgumentError\u001b[0m                      Traceback (most recent call last)",
            "\u001b[0;32m<ipython-input-76-83c86bad72ca>\u001b[0m in \u001b[0;36m<cell line: 1>\u001b[0;34m()\u001b[0m\n\u001b[0;32m----> 1\u001b[0;31m \u001b[0mloss\u001b[0m \u001b[0;34m=\u001b[0m \u001b[0mtf\u001b[0m\u001b[0;34m.\u001b[0m\u001b[0mmetrics\u001b[0m\u001b[0;34m.\u001b[0m\u001b[0mmean_absolute_error\u001b[0m\u001b[0;34m(\u001b[0m\u001b[0my_test\u001b[0m\u001b[0;34m,\u001b[0m\u001b[0mtf\u001b[0m\u001b[0;34m.\u001b[0m\u001b[0msqueeze\u001b[0m\u001b[0;34m(\u001b[0m\u001b[0my_pred\u001b[0m\u001b[0;34m)\u001b[0m\u001b[0;34m)\u001b[0m\u001b[0;34m\u001b[0m\u001b[0;34m\u001b[0m\u001b[0m\n\u001b[0m",
            "\u001b[0;32m/usr/local/lib/python3.10/dist-packages/tensorflow/python/util/traceback_utils.py\u001b[0m in \u001b[0;36merror_handler\u001b[0;34m(*args, **kwargs)\u001b[0m\n\u001b[1;32m    151\u001b[0m     \u001b[0;32mexcept\u001b[0m \u001b[0mException\u001b[0m \u001b[0;32mas\u001b[0m \u001b[0me\u001b[0m\u001b[0;34m:\u001b[0m\u001b[0;34m\u001b[0m\u001b[0;34m\u001b[0m\u001b[0m\n\u001b[1;32m    152\u001b[0m       \u001b[0mfiltered_tb\u001b[0m \u001b[0;34m=\u001b[0m \u001b[0m_process_traceback_frames\u001b[0m\u001b[0;34m(\u001b[0m\u001b[0me\u001b[0m\u001b[0;34m.\u001b[0m\u001b[0m__traceback__\u001b[0m\u001b[0;34m)\u001b[0m\u001b[0;34m\u001b[0m\u001b[0;34m\u001b[0m\u001b[0m\n\u001b[0;32m--> 153\u001b[0;31m       \u001b[0;32mraise\u001b[0m \u001b[0me\u001b[0m\u001b[0;34m.\u001b[0m\u001b[0mwith_traceback\u001b[0m\u001b[0;34m(\u001b[0m\u001b[0mfiltered_tb\u001b[0m\u001b[0;34m)\u001b[0m \u001b[0;32mfrom\u001b[0m \u001b[0;32mNone\u001b[0m\u001b[0;34m\u001b[0m\u001b[0;34m\u001b[0m\u001b[0m\n\u001b[0m\u001b[1;32m    154\u001b[0m     \u001b[0;32mfinally\u001b[0m\u001b[0;34m:\u001b[0m\u001b[0;34m\u001b[0m\u001b[0;34m\u001b[0m\u001b[0m\n\u001b[1;32m    155\u001b[0m       \u001b[0;32mdel\u001b[0m \u001b[0mfiltered_tb\u001b[0m\u001b[0;34m\u001b[0m\u001b[0;34m\u001b[0m\u001b[0m\n",
            "\u001b[0;32m/usr/local/lib/python3.10/dist-packages/keras/src/losses.py\u001b[0m in \u001b[0;36mmean_absolute_error\u001b[0;34m(y_true, y_pred)\u001b[0m\n\u001b[1;32m   1846\u001b[0m     \u001b[0my_pred\u001b[0m \u001b[0;34m=\u001b[0m \u001b[0mtf\u001b[0m\u001b[0;34m.\u001b[0m\u001b[0mconvert_to_tensor\u001b[0m\u001b[0;34m(\u001b[0m\u001b[0my_pred\u001b[0m\u001b[0;34m)\u001b[0m\u001b[0;34m\u001b[0m\u001b[0;34m\u001b[0m\u001b[0m\n\u001b[1;32m   1847\u001b[0m     \u001b[0my_true\u001b[0m \u001b[0;34m=\u001b[0m \u001b[0mtf\u001b[0m\u001b[0;34m.\u001b[0m\u001b[0mcast\u001b[0m\u001b[0;34m(\u001b[0m\u001b[0my_true\u001b[0m\u001b[0;34m,\u001b[0m \u001b[0my_pred\u001b[0m\u001b[0;34m.\u001b[0m\u001b[0mdtype\u001b[0m\u001b[0;34m)\u001b[0m\u001b[0;34m\u001b[0m\u001b[0;34m\u001b[0m\u001b[0m\n\u001b[0;32m-> 1848\u001b[0;31m     \u001b[0;32mreturn\u001b[0m \u001b[0mbackend\u001b[0m\u001b[0;34m.\u001b[0m\u001b[0mmean\u001b[0m\u001b[0;34m(\u001b[0m\u001b[0mtf\u001b[0m\u001b[0;34m.\u001b[0m\u001b[0mabs\u001b[0m\u001b[0;34m(\u001b[0m\u001b[0my_pred\u001b[0m \u001b[0;34m-\u001b[0m \u001b[0my_true\u001b[0m\u001b[0;34m)\u001b[0m\u001b[0;34m,\u001b[0m \u001b[0maxis\u001b[0m\u001b[0;34m=\u001b[0m\u001b[0;34m-\u001b[0m\u001b[0;36m1\u001b[0m\u001b[0;34m)\u001b[0m\u001b[0;34m\u001b[0m\u001b[0;34m\u001b[0m\u001b[0m\n\u001b[0m\u001b[1;32m   1849\u001b[0m \u001b[0;34m\u001b[0m\u001b[0m\n\u001b[1;32m   1850\u001b[0m \u001b[0;34m\u001b[0m\u001b[0m\n",
            "\u001b[0;31mInvalidArgumentError\u001b[0m: {{function_node __wrapped__Sub_device_/job:localhost/replica:0/task:0/device:CPU:0}} Incompatible shapes: [10650] vs. [213] [Op:Sub] name: "
          ]
        }
      ]
    },
    {
      "cell_type": "code",
      "source": [
        "mse = tf.metrics.mean_squared_error(y_true = y_test , y_pred = tf.squeeze(y_pred))"
      ],
      "metadata": {
        "colab": {
          "base_uri": "https://localhost:8080/",
          "height": 356
        },
        "id": "-wcukIxyBlgA",
        "outputId": "eb69dc2a-e61c-4312-c67d-16ba4b4ad193"
      },
      "execution_count": 180,
      "outputs": [
        {
          "output_type": "error",
          "ename": "InvalidArgumentError",
          "evalue": "{{function_node __wrapped__SquaredDifference_device_/job:localhost/replica:0/task:0/device:CPU:0}} Incompatible shapes: [213,50] vs. [10] [Op:SquaredDifference] name: ",
          "traceback": [
            "\u001b[0;31m---------------------------------------------------------------------------\u001b[0m",
            "\u001b[0;31mInvalidArgumentError\u001b[0m                      Traceback (most recent call last)",
            "\u001b[0;32m<ipython-input-180-8d490c19fe4d>\u001b[0m in \u001b[0;36m<cell line: 1>\u001b[0;34m()\u001b[0m\n\u001b[0;32m----> 1\u001b[0;31m \u001b[0mmse\u001b[0m \u001b[0;34m=\u001b[0m \u001b[0mtf\u001b[0m\u001b[0;34m.\u001b[0m\u001b[0mmetrics\u001b[0m\u001b[0;34m.\u001b[0m\u001b[0mmean_squared_error\u001b[0m\u001b[0;34m(\u001b[0m\u001b[0my_true\u001b[0m \u001b[0;34m=\u001b[0m \u001b[0my_test\u001b[0m \u001b[0;34m,\u001b[0m \u001b[0my_pred\u001b[0m \u001b[0;34m=\u001b[0m \u001b[0mtf\u001b[0m\u001b[0;34m.\u001b[0m\u001b[0msqueeze\u001b[0m\u001b[0;34m(\u001b[0m\u001b[0my_pred\u001b[0m\u001b[0;34m)\u001b[0m\u001b[0;34m)\u001b[0m\u001b[0;34m\u001b[0m\u001b[0;34m\u001b[0m\u001b[0m\n\u001b[0m",
            "\u001b[0;32m/usr/local/lib/python3.10/dist-packages/tensorflow/python/util/traceback_utils.py\u001b[0m in \u001b[0;36merror_handler\u001b[0;34m(*args, **kwargs)\u001b[0m\n\u001b[1;32m    151\u001b[0m     \u001b[0;32mexcept\u001b[0m \u001b[0mException\u001b[0m \u001b[0;32mas\u001b[0m \u001b[0me\u001b[0m\u001b[0;34m:\u001b[0m\u001b[0;34m\u001b[0m\u001b[0;34m\u001b[0m\u001b[0m\n\u001b[1;32m    152\u001b[0m       \u001b[0mfiltered_tb\u001b[0m \u001b[0;34m=\u001b[0m \u001b[0m_process_traceback_frames\u001b[0m\u001b[0;34m(\u001b[0m\u001b[0me\u001b[0m\u001b[0;34m.\u001b[0m\u001b[0m__traceback__\u001b[0m\u001b[0;34m)\u001b[0m\u001b[0;34m\u001b[0m\u001b[0;34m\u001b[0m\u001b[0m\n\u001b[0;32m--> 153\u001b[0;31m       \u001b[0;32mraise\u001b[0m \u001b[0me\u001b[0m\u001b[0;34m.\u001b[0m\u001b[0mwith_traceback\u001b[0m\u001b[0;34m(\u001b[0m\u001b[0mfiltered_tb\u001b[0m\u001b[0;34m)\u001b[0m \u001b[0;32mfrom\u001b[0m \u001b[0;32mNone\u001b[0m\u001b[0;34m\u001b[0m\u001b[0;34m\u001b[0m\u001b[0m\n\u001b[0m\u001b[1;32m    154\u001b[0m     \u001b[0;32mfinally\u001b[0m\u001b[0;34m:\u001b[0m\u001b[0;34m\u001b[0m\u001b[0;34m\u001b[0m\u001b[0m\n\u001b[1;32m    155\u001b[0m       \u001b[0;32mdel\u001b[0m \u001b[0mfiltered_tb\u001b[0m\u001b[0;34m\u001b[0m\u001b[0;34m\u001b[0m\u001b[0m\n",
            "\u001b[0;32m/usr/local/lib/python3.10/dist-packages/keras/src/losses.py\u001b[0m in \u001b[0;36mmean_squared_error\u001b[0;34m(y_true, y_pred)\u001b[0m\n\u001b[1;32m   1704\u001b[0m     \u001b[0my_pred\u001b[0m \u001b[0;34m=\u001b[0m \u001b[0mtf\u001b[0m\u001b[0;34m.\u001b[0m\u001b[0mconvert_to_tensor\u001b[0m\u001b[0;34m(\u001b[0m\u001b[0my_pred\u001b[0m\u001b[0;34m)\u001b[0m\u001b[0;34m\u001b[0m\u001b[0;34m\u001b[0m\u001b[0m\n\u001b[1;32m   1705\u001b[0m     \u001b[0my_true\u001b[0m \u001b[0;34m=\u001b[0m \u001b[0mtf\u001b[0m\u001b[0;34m.\u001b[0m\u001b[0mcast\u001b[0m\u001b[0;34m(\u001b[0m\u001b[0my_true\u001b[0m\u001b[0;34m,\u001b[0m \u001b[0my_pred\u001b[0m\u001b[0;34m.\u001b[0m\u001b[0mdtype\u001b[0m\u001b[0;34m)\u001b[0m\u001b[0;34m\u001b[0m\u001b[0;34m\u001b[0m\u001b[0m\n\u001b[0;32m-> 1706\u001b[0;31m     \u001b[0;32mreturn\u001b[0m \u001b[0mbackend\u001b[0m\u001b[0;34m.\u001b[0m\u001b[0mmean\u001b[0m\u001b[0;34m(\u001b[0m\u001b[0mtf\u001b[0m\u001b[0;34m.\u001b[0m\u001b[0mmath\u001b[0m\u001b[0;34m.\u001b[0m\u001b[0msquared_difference\u001b[0m\u001b[0;34m(\u001b[0m\u001b[0my_pred\u001b[0m\u001b[0;34m,\u001b[0m \u001b[0my_true\u001b[0m\u001b[0;34m)\u001b[0m\u001b[0;34m,\u001b[0m \u001b[0maxis\u001b[0m\u001b[0;34m=\u001b[0m\u001b[0;34m-\u001b[0m\u001b[0;36m1\u001b[0m\u001b[0;34m)\u001b[0m\u001b[0;34m\u001b[0m\u001b[0;34m\u001b[0m\u001b[0m\n\u001b[0m\u001b[1;32m   1707\u001b[0m \u001b[0;34m\u001b[0m\u001b[0m\n\u001b[1;32m   1708\u001b[0m \u001b[0;34m\u001b[0m\u001b[0m\n",
            "\u001b[0;31mInvalidArgumentError\u001b[0m: {{function_node __wrapped__SquaredDifference_device_/job:localhost/replica:0/task:0/device:CPU:0}} Incompatible shapes: [213,50] vs. [10] [Op:SquaredDifference] name: "
          ]
        }
      ]
    },
    {
      "cell_type": "markdown",
      "source": [],
      "metadata": {
        "id": "Ks-DMDfIeX6n"
      }
    },
    {
      "cell_type": "code",
      "source": [
        "#Create fuctions to reuse MAE and MSE\n",
        "\n",
        "def mae(y_true, y_pred):\n",
        "  return tf.metrics.mean_absolute_error(y_true=y_true ,\n",
        "                                        y_pred = y_pred)\n",
        "\n",
        "def mse(y_true,y_pred):\n",
        "  return tf.metrics.mean_squared_error(y_true = y_true,\n",
        "                                       y_pred = y_pred)\n"
      ],
      "metadata": {
        "id": "OFm63HsGeVid"
      },
      "execution_count": 91,
      "outputs": []
    },
    {
      "cell_type": "code",
      "source": [
        "X= tf.range(-100 , 100 , 4)\n",
        "y=X+10\n",
        "\n",
        "X_train = X[:40]\n",
        "y_train =  y[:40]\n",
        "\n",
        "X_test = X[40:]\n",
        "y_test  = y[40:]\n"
      ],
      "metadata": {
        "id": "suGIVmPSgItg"
      },
      "execution_count": 167,
      "outputs": []
    },
    {
      "cell_type": "code",
      "source": [
        "X_train, y_train"
      ],
      "metadata": {
        "colab": {
          "base_uri": "https://localhost:8080/"
        },
        "id": "pMBehhPYjkPL",
        "outputId": "676649d2-c438-438a-b179-9695314003f9"
      },
      "execution_count": 168,
      "outputs": [
        {
          "output_type": "execute_result",
          "data": {
            "text/plain": [
              "(<tf.Tensor: shape=(40,), dtype=int32, numpy=\n",
              " array([-100,  -96,  -92,  -88,  -84,  -80,  -76,  -72,  -68,  -64,  -60,\n",
              "         -56,  -52,  -48,  -44,  -40,  -36,  -32,  -28,  -24,  -20,  -16,\n",
              "         -12,   -8,   -4,    0,    4,    8,   12,   16,   20,   24,   28,\n",
              "          32,   36,   40,   44,   48,   52,   56], dtype=int32)>,\n",
              " <tf.Tensor: shape=(40,), dtype=int32, numpy=\n",
              " array([-90, -86, -82, -78, -74, -70, -66, -62, -58, -54, -50, -46, -42,\n",
              "        -38, -34, -30, -26, -22, -18, -14, -10,  -6,  -2,   2,   6,  10,\n",
              "         14,  18,  22,  26,  30,  34,  38,  42,  46,  50,  54,  58,  62,\n",
              "         66], dtype=int32)>)"
            ]
          },
          "metadata": {},
          "execution_count": 168
        }
      ]
    },
    {
      "cell_type": "code",
      "source": [
        "model1 = tf.keras.Sequential([\n",
        "    tf.keras.layers.Dense(1, activation = None)\n",
        "])\n",
        "model1.compile(loss=tf.keras.losses.mae,\n",
        "              optimizer = tf.keras.optimizers.SGD(),\n",
        "              metrics =[\"mae\"])\n",
        "\n",
        "\n",
        "model1.fit(tf.expand_dims(X_train, axis=-1),y_train,epochs =100)"
      ],
      "metadata": {
        "colab": {
          "base_uri": "https://localhost:8080/"
        },
        "id": "toFmDe0PhdCe",
        "outputId": "43cdcfad-83db-4c60-aaff-6086c0f00adf"
      },
      "execution_count": 193,
      "outputs": [
        {
          "output_type": "stream",
          "name": "stdout",
          "text": [
            "Epoch 1/100\n",
            "2/2 [==============================] - 0s 12ms/step - loss: 71.7358 - mae: 71.7358\n",
            "Epoch 2/100\n",
            "2/2 [==============================] - 0s 10ms/step - loss: 36.4730 - mae: 36.4730\n",
            "Epoch 3/100\n",
            "2/2 [==============================] - 0s 9ms/step - loss: 7.9866 - mae: 7.9866\n",
            "Epoch 4/100\n",
            "2/2 [==============================] - 0s 8ms/step - loss: 7.9676 - mae: 7.9676\n",
            "Epoch 5/100\n",
            "2/2 [==============================] - 0s 8ms/step - loss: 10.2439 - mae: 10.2439\n",
            "Epoch 6/100\n",
            "2/2 [==============================] - 0s 7ms/step - loss: 9.5003 - mae: 9.5003\n",
            "Epoch 7/100\n",
            "2/2 [==============================] - 0s 7ms/step - loss: 8.6315 - mae: 8.6315\n",
            "Epoch 8/100\n",
            "2/2 [==============================] - 0s 7ms/step - loss: 9.0674 - mae: 9.0674\n",
            "Epoch 9/100\n",
            "2/2 [==============================] - 0s 8ms/step - loss: 18.8691 - mae: 18.8691\n",
            "Epoch 10/100\n",
            "2/2 [==============================] - 0s 8ms/step - loss: 10.1931 - mae: 10.1931\n",
            "Epoch 11/100\n",
            "2/2 [==============================] - 0s 9ms/step - loss: 8.4402 - mae: 8.4402\n",
            "Epoch 12/100\n",
            "2/2 [==============================] - 0s 9ms/step - loss: 10.7307 - mae: 10.7307\n",
            "Epoch 13/100\n",
            "2/2 [==============================] - 0s 8ms/step - loss: 9.8361 - mae: 9.8361\n",
            "Epoch 14/100\n",
            "2/2 [==============================] - 0s 10ms/step - loss: 16.1326 - mae: 16.1326\n",
            "Epoch 15/100\n",
            "2/2 [==============================] - 0s 10ms/step - loss: 11.3347 - mae: 11.3347\n",
            "Epoch 16/100\n",
            "2/2 [==============================] - 0s 8ms/step - loss: 8.5833 - mae: 8.5833\n",
            "Epoch 17/100\n",
            "2/2 [==============================] - 0s 9ms/step - loss: 13.7155 - mae: 13.7155\n",
            "Epoch 18/100\n",
            "2/2 [==============================] - 0s 10ms/step - loss: 11.5588 - mae: 11.5588\n",
            "Epoch 19/100\n",
            "2/2 [==============================] - 0s 9ms/step - loss: 17.8368 - mae: 17.8368\n",
            "Epoch 20/100\n",
            "2/2 [==============================] - 0s 9ms/step - loss: 14.9720 - mae: 14.9720\n",
            "Epoch 21/100\n",
            "2/2 [==============================] - 0s 7ms/step - loss: 10.8573 - mae: 10.8573\n",
            "Epoch 22/100\n",
            "2/2 [==============================] - 0s 8ms/step - loss: 8.6084 - mae: 8.6084\n",
            "Epoch 23/100\n",
            "2/2 [==============================] - 0s 7ms/step - loss: 9.7327 - mae: 9.7327\n",
            "Epoch 24/100\n",
            "2/2 [==============================] - 0s 7ms/step - loss: 10.9677 - mae: 10.9677\n",
            "Epoch 25/100\n",
            "2/2 [==============================] - 0s 7ms/step - loss: 9.1770 - mae: 9.1770\n",
            "Epoch 26/100\n",
            "2/2 [==============================] - 0s 7ms/step - loss: 13.2047 - mae: 13.2047\n",
            "Epoch 27/100\n",
            "2/2 [==============================] - 0s 7ms/step - loss: 10.6795 - mae: 10.6795\n",
            "Epoch 28/100\n",
            "2/2 [==============================] - 0s 8ms/step - loss: 12.8979 - mae: 12.8979\n",
            "Epoch 29/100\n",
            "2/2 [==============================] - 0s 8ms/step - loss: 9.5268 - mae: 9.5268\n",
            "Epoch 30/100\n",
            "2/2 [==============================] - 0s 8ms/step - loss: 16.4163 - mae: 16.4163\n",
            "Epoch 31/100\n",
            "2/2 [==============================] - 0s 8ms/step - loss: 23.5881 - mae: 23.5881\n",
            "Epoch 32/100\n",
            "2/2 [==============================] - 0s 7ms/step - loss: 7.6285 - mae: 7.6285\n",
            "Epoch 33/100\n",
            "2/2 [==============================] - 0s 13ms/step - loss: 9.3254 - mae: 9.3254\n",
            "Epoch 34/100\n",
            "2/2 [==============================] - 0s 11ms/step - loss: 13.7002 - mae: 13.7002\n",
            "Epoch 35/100\n",
            "2/2 [==============================] - 0s 7ms/step - loss: 11.1692 - mae: 11.1692\n",
            "Epoch 36/100\n",
            "2/2 [==============================] - 0s 7ms/step - loss: 13.3852 - mae: 13.3852\n",
            "Epoch 37/100\n",
            "2/2 [==============================] - 0s 7ms/step - loss: 9.4725 - mae: 9.4725\n",
            "Epoch 38/100\n",
            "2/2 [==============================] - 0s 7ms/step - loss: 10.1265 - mae: 10.1265\n",
            "Epoch 39/100\n",
            "2/2 [==============================] - 0s 8ms/step - loss: 10.2212 - mae: 10.2212\n",
            "Epoch 40/100\n",
            "2/2 [==============================] - 0s 7ms/step - loss: 10.9631 - mae: 10.9631\n",
            "Epoch 41/100\n",
            "2/2 [==============================] - 0s 6ms/step - loss: 7.9409 - mae: 7.9409\n",
            "Epoch 42/100\n",
            "2/2 [==============================] - 0s 7ms/step - loss: 10.6044 - mae: 10.6044\n",
            "Epoch 43/100\n",
            "2/2 [==============================] - 0s 7ms/step - loss: 7.2289 - mae: 7.2289\n",
            "Epoch 44/100\n",
            "2/2 [==============================] - 0s 7ms/step - loss: 8.0154 - mae: 8.0154\n",
            "Epoch 45/100\n",
            "2/2 [==============================] - 0s 7ms/step - loss: 9.8103 - mae: 9.8103\n",
            "Epoch 46/100\n",
            "2/2 [==============================] - 0s 7ms/step - loss: 8.8861 - mae: 8.8861\n",
            "Epoch 47/100\n",
            "2/2 [==============================] - 0s 9ms/step - loss: 7.5908 - mae: 7.5908\n",
            "Epoch 48/100\n",
            "2/2 [==============================] - 0s 7ms/step - loss: 8.5876 - mae: 8.5876\n",
            "Epoch 49/100\n",
            "2/2 [==============================] - 0s 8ms/step - loss: 10.0163 - mae: 10.0163\n",
            "Epoch 50/100\n",
            "2/2 [==============================] - 0s 11ms/step - loss: 9.0387 - mae: 9.0387\n",
            "Epoch 51/100\n",
            "2/2 [==============================] - 0s 7ms/step - loss: 10.6864 - mae: 10.6864\n",
            "Epoch 52/100\n",
            "2/2 [==============================] - 0s 7ms/step - loss: 15.3100 - mae: 15.3100\n",
            "Epoch 53/100\n",
            "2/2 [==============================] - 0s 7ms/step - loss: 14.3297 - mae: 14.3297\n",
            "Epoch 54/100\n",
            "2/2 [==============================] - 0s 8ms/step - loss: 21.6199 - mae: 21.6199\n",
            "Epoch 55/100\n",
            "2/2 [==============================] - 0s 8ms/step - loss: 16.0012 - mae: 16.0012\n",
            "Epoch 56/100\n",
            "2/2 [==============================] - 0s 10ms/step - loss: 10.3006 - mae: 10.3006\n",
            "Epoch 57/100\n",
            "2/2 [==============================] - 0s 7ms/step - loss: 9.7852 - mae: 9.7852\n",
            "Epoch 58/100\n",
            "2/2 [==============================] - 0s 7ms/step - loss: 9.0715 - mae: 9.0715\n",
            "Epoch 59/100\n",
            "2/2 [==============================] - 0s 7ms/step - loss: 8.2738 - mae: 8.2738\n",
            "Epoch 60/100\n",
            "2/2 [==============================] - 0s 8ms/step - loss: 9.3728 - mae: 9.3728\n",
            "Epoch 61/100\n",
            "2/2 [==============================] - 0s 8ms/step - loss: 11.1825 - mae: 11.1825\n",
            "Epoch 62/100\n",
            "2/2 [==============================] - 0s 8ms/step - loss: 12.0896 - mae: 12.0896\n",
            "Epoch 63/100\n",
            "2/2 [==============================] - 0s 8ms/step - loss: 7.2855 - mae: 7.2855\n",
            "Epoch 64/100\n",
            "2/2 [==============================] - 0s 7ms/step - loss: 12.4429 - mae: 12.4429\n",
            "Epoch 65/100\n",
            "2/2 [==============================] - 0s 7ms/step - loss: 10.5184 - mae: 10.5184\n",
            "Epoch 66/100\n",
            "2/2 [==============================] - 0s 7ms/step - loss: 15.6213 - mae: 15.6213\n",
            "Epoch 67/100\n",
            "2/2 [==============================] - 0s 7ms/step - loss: 10.0258 - mae: 10.0258\n",
            "Epoch 68/100\n",
            "2/2 [==============================] - 0s 7ms/step - loss: 8.7380 - mae: 8.7380\n",
            "Epoch 69/100\n",
            "2/2 [==============================] - 0s 7ms/step - loss: 13.4994 - mae: 13.4994\n",
            "Epoch 70/100\n",
            "2/2 [==============================] - 0s 7ms/step - loss: 7.4866 - mae: 7.4866\n",
            "Epoch 71/100\n",
            "2/2 [==============================] - 0s 7ms/step - loss: 12.2453 - mae: 12.2453\n",
            "Epoch 72/100\n",
            "2/2 [==============================] - 0s 8ms/step - loss: 8.5479 - mae: 8.5479\n",
            "Epoch 73/100\n",
            "2/2 [==============================] - 0s 7ms/step - loss: 7.0562 - mae: 7.0562\n",
            "Epoch 74/100\n",
            "2/2 [==============================] - 0s 8ms/step - loss: 9.9435 - mae: 9.9435\n",
            "Epoch 75/100\n",
            "2/2 [==============================] - 0s 8ms/step - loss: 9.9547 - mae: 9.9547\n",
            "Epoch 76/100\n",
            "2/2 [==============================] - 0s 8ms/step - loss: 10.1209 - mae: 10.1209\n",
            "Epoch 77/100\n",
            "2/2 [==============================] - 0s 8ms/step - loss: 12.9674 - mae: 12.9674\n",
            "Epoch 78/100\n",
            "2/2 [==============================] - 0s 7ms/step - loss: 11.1622 - mae: 11.1622\n",
            "Epoch 79/100\n",
            "2/2 [==============================] - 0s 8ms/step - loss: 14.7110 - mae: 14.7110\n",
            "Epoch 80/100\n",
            "2/2 [==============================] - 0s 7ms/step - loss: 8.9423 - mae: 8.9423\n",
            "Epoch 81/100\n",
            "2/2 [==============================] - 0s 8ms/step - loss: 10.7869 - mae: 10.7869\n",
            "Epoch 82/100\n",
            "2/2 [==============================] - 0s 7ms/step - loss: 8.4030 - mae: 8.4030\n",
            "Epoch 83/100\n",
            "2/2 [==============================] - 0s 7ms/step - loss: 9.2420 - mae: 9.2420\n",
            "Epoch 84/100\n",
            "2/2 [==============================] - 0s 7ms/step - loss: 8.9597 - mae: 8.9597\n",
            "Epoch 85/100\n",
            "2/2 [==============================] - 0s 7ms/step - loss: 13.2089 - mae: 13.2089\n",
            "Epoch 86/100\n",
            "2/2 [==============================] - 0s 6ms/step - loss: 13.7136 - mae: 13.7136\n",
            "Epoch 87/100\n",
            "2/2 [==============================] - 0s 7ms/step - loss: 13.1981 - mae: 13.1981\n",
            "Epoch 88/100\n",
            "2/2 [==============================] - 0s 7ms/step - loss: 11.5254 - mae: 11.5254\n",
            "Epoch 89/100\n",
            "2/2 [==============================] - 0s 8ms/step - loss: 7.8194 - mae: 7.8194\n",
            "Epoch 90/100\n",
            "2/2 [==============================] - 0s 8ms/step - loss: 10.9421 - mae: 10.9421\n",
            "Epoch 91/100\n",
            "2/2 [==============================] - 0s 12ms/step - loss: 6.7669 - mae: 6.7669\n",
            "Epoch 92/100\n",
            "2/2 [==============================] - 0s 9ms/step - loss: 10.1347 - mae: 10.1347\n",
            "Epoch 93/100\n",
            "2/2 [==============================] - 0s 8ms/step - loss: 7.6242 - mae: 7.6242\n",
            "Epoch 94/100\n",
            "2/2 [==============================] - 0s 8ms/step - loss: 9.2575 - mae: 9.2575\n",
            "Epoch 95/100\n",
            "2/2 [==============================] - 0s 7ms/step - loss: 10.8484 - mae: 10.8484\n",
            "Epoch 96/100\n",
            "2/2 [==============================] - 0s 10ms/step - loss: 10.3053 - mae: 10.3053\n",
            "Epoch 97/100\n",
            "2/2 [==============================] - 0s 7ms/step - loss: 7.6964 - mae: 7.6964\n",
            "Epoch 98/100\n",
            "2/2 [==============================] - 0s 7ms/step - loss: 8.6322 - mae: 8.6322\n",
            "Epoch 99/100\n",
            "2/2 [==============================] - 0s 7ms/step - loss: 9.4114 - mae: 9.4114\n",
            "Epoch 100/100\n",
            "2/2 [==============================] - 0s 7ms/step - loss: 8.8560 - mae: 8.8560\n"
          ]
        },
        {
          "output_type": "execute_result",
          "data": {
            "text/plain": [
              "<keras.src.callbacks.History at 0x7bb573defaf0>"
            ]
          },
          "metadata": {},
          "execution_count": 193
        }
      ]
    },
    {
      "cell_type": "code",
      "source": [
        "y_pred_1 = model1.predict(X_test)"
      ],
      "metadata": {
        "colab": {
          "base_uri": "https://localhost:8080/"
        },
        "id": "XZhUNfk5iVpu",
        "outputId": "7e74a4b9-6250-4a9d-ca3b-b2408a6a5c31"
      },
      "execution_count": 194,
      "outputs": [
        {
          "output_type": "stream",
          "name": "stdout",
          "text": [
            "1/1 [==============================] - 0s 52ms/step\n"
          ]
        }
      ]
    },
    {
      "cell_type": "code",
      "source": [
        "tf.squeeze(y_pred_1).shape,X_test.shape,y_test.shape"
      ],
      "metadata": {
        "colab": {
          "base_uri": "https://localhost:8080/"
        },
        "id": "YYb5tmtLkgph",
        "outputId": "f5ee7ac7-28f5-4ff6-fc24-f2ab1da31a9d"
      },
      "execution_count": 171,
      "outputs": [
        {
          "output_type": "execute_result",
          "data": {
            "text/plain": [
              "(TensorShape([10]), TensorShape([10]), TensorShape([10]))"
            ]
          },
          "metadata": {},
          "execution_count": 171
        }
      ]
    },
    {
      "cell_type": "code",
      "source": [
        "mae1 = mae(y_test,tf.squeeze(y_pred_1))\n",
        "mae1"
      ],
      "metadata": {
        "colab": {
          "base_uri": "https://localhost:8080/"
        },
        "id": "uBy08yLbmgWs",
        "outputId": "f8f3aa9a-ce47-4b27-eda1-b1402ef45ca7"
      },
      "execution_count": 195,
      "outputs": [
        {
          "output_type": "execute_result",
          "data": {
            "text/plain": [
              "<tf.Tensor: shape=(), dtype=float32, numpy=8.58978>"
            ]
          },
          "metadata": {},
          "execution_count": 195
        }
      ]
    },
    {
      "cell_type": "code",
      "source": [
        "mse1 = mse(y_test, tf.squeeze(y_pred_1))\n",
        "mse1"
      ],
      "metadata": {
        "colab": {
          "base_uri": "https://localhost:8080/"
        },
        "id": "Fw4GZmNenGZ7",
        "outputId": "767bfb99-acf8-4a04-9faf-1f14e69acffb"
      },
      "execution_count": 196,
      "outputs": [
        {
          "output_type": "execute_result",
          "data": {
            "text/plain": [
              "<tf.Tensor: shape=(), dtype=float32, numpy=80.28654>"
            ]
          },
          "metadata": {},
          "execution_count": 196
        }
      ]
    },
    {
      "cell_type": "code",
      "source": [
        "model2 = tf.keras.Sequential([\n",
        "    tf.keras.layers.Dense(100,activation=\"relu\"),\n",
        "    tf.keras.layers.Dense(1)\n",
        "])\n",
        "model2.compile(loss= tf.keras.losses.mae,\n",
        "               optimizer = tf.keras.optimizers.Adam(lr=0.01),\n",
        "               metrics=[\"mae\"])\n",
        "\n",
        "model2.fit(tf.expand_dims(X_train, axis =-1),y_train,epochs =100)"
      ],
      "metadata": {
        "colab": {
          "base_uri": "https://localhost:8080/"
        },
        "id": "TFNMjqhGnWmO",
        "outputId": "663d95ed-79dc-4e61-f9f6-af084e58978c"
      },
      "execution_count": 215,
      "outputs": [
        {
          "output_type": "stream",
          "name": "stderr",
          "text": [
            "WARNING:absl:`lr` is deprecated in Keras optimizer, please use `learning_rate` or use the legacy optimizer, e.g.,tf.keras.optimizers.legacy.Adam.\n"
          ]
        },
        {
          "output_type": "stream",
          "name": "stdout",
          "text": [
            "Epoch 1/100\n",
            "2/2 [==============================] - 3s 16ms/step - loss: 45.5914 - mae: 45.5914\n",
            "Epoch 2/100\n",
            "2/2 [==============================] - 0s 22ms/step - loss: 44.6332 - mae: 44.6332\n",
            "Epoch 3/100\n",
            "2/2 [==============================] - 0s 21ms/step - loss: 43.7232 - mae: 43.7232\n",
            "Epoch 4/100\n",
            "2/2 [==============================] - 0s 32ms/step - loss: 42.7938 - mae: 42.7938\n",
            "Epoch 5/100\n",
            "2/2 [==============================] - 0s 21ms/step - loss: 41.8907 - mae: 41.8907\n",
            "Epoch 6/100\n",
            "2/2 [==============================] - 0s 26ms/step - loss: 40.9888 - mae: 40.9888\n",
            "Epoch 7/100\n",
            "2/2 [==============================] - 0s 32ms/step - loss: 40.0774 - mae: 40.0774\n",
            "Epoch 8/100\n",
            "2/2 [==============================] - 0s 33ms/step - loss: 39.1256 - mae: 39.1256\n",
            "Epoch 9/100\n",
            "2/2 [==============================] - 0s 40ms/step - loss: 38.2375 - mae: 38.2375\n",
            "Epoch 10/100\n",
            "2/2 [==============================] - 0s 69ms/step - loss: 37.3485 - mae: 37.3485\n",
            "Epoch 11/100\n",
            "2/2 [==============================] - 0s 45ms/step - loss: 36.3997 - mae: 36.3997\n",
            "Epoch 12/100\n",
            "2/2 [==============================] - 0s 22ms/step - loss: 35.5061 - mae: 35.5061\n",
            "Epoch 13/100\n",
            "2/2 [==============================] - 0s 23ms/step - loss: 34.5588 - mae: 34.5588\n",
            "Epoch 14/100\n",
            "2/2 [==============================] - 0s 30ms/step - loss: 33.6502 - mae: 33.6502\n",
            "Epoch 15/100\n",
            "2/2 [==============================] - 0s 19ms/step - loss: 32.7335 - mae: 32.7335\n",
            "Epoch 16/100\n",
            "2/2 [==============================] - 0s 17ms/step - loss: 31.7687 - mae: 31.7687\n",
            "Epoch 17/100\n",
            "2/2 [==============================] - 0s 28ms/step - loss: 30.8127 - mae: 30.8127\n",
            "Epoch 18/100\n",
            "2/2 [==============================] - 0s 21ms/step - loss: 29.8667 - mae: 29.8667\n",
            "Epoch 19/100\n",
            "2/2 [==============================] - 0s 27ms/step - loss: 28.9401 - mae: 28.9401\n",
            "Epoch 20/100\n",
            "2/2 [==============================] - 0s 22ms/step - loss: 27.9681 - mae: 27.9681\n",
            "Epoch 21/100\n",
            "2/2 [==============================] - 0s 31ms/step - loss: 27.0170 - mae: 27.0170\n",
            "Epoch 22/100\n",
            "2/2 [==============================] - 0s 41ms/step - loss: 26.0781 - mae: 26.0781\n",
            "Epoch 23/100\n",
            "2/2 [==============================] - 0s 45ms/step - loss: 25.1058 - mae: 25.1058\n",
            "Epoch 24/100\n",
            "2/2 [==============================] - 0s 12ms/step - loss: 24.1017 - mae: 24.1017\n",
            "Epoch 25/100\n",
            "2/2 [==============================] - 0s 11ms/step - loss: 23.0996 - mae: 23.0996\n",
            "Epoch 26/100\n",
            "2/2 [==============================] - 0s 11ms/step - loss: 22.1098 - mae: 22.1098\n",
            "Epoch 27/100\n",
            "2/2 [==============================] - 0s 17ms/step - loss: 21.0597 - mae: 21.0597\n",
            "Epoch 28/100\n",
            "2/2 [==============================] - 0s 36ms/step - loss: 20.0710 - mae: 20.0710\n",
            "Epoch 29/100\n",
            "2/2 [==============================] - 0s 15ms/step - loss: 18.9613 - mae: 18.9613\n",
            "Epoch 30/100\n",
            "2/2 [==============================] - 0s 22ms/step - loss: 17.8761 - mae: 17.8761\n",
            "Epoch 31/100\n",
            "2/2 [==============================] - 0s 15ms/step - loss: 16.8769 - mae: 16.8769\n",
            "Epoch 32/100\n",
            "2/2 [==============================] - 0s 13ms/step - loss: 15.7992 - mae: 15.7992\n",
            "Epoch 33/100\n",
            "2/2 [==============================] - 0s 12ms/step - loss: 14.6883 - mae: 14.6883\n",
            "Epoch 34/100\n",
            "2/2 [==============================] - 0s 15ms/step - loss: 13.6554 - mae: 13.6554\n",
            "Epoch 35/100\n",
            "2/2 [==============================] - 0s 14ms/step - loss: 12.5557 - mae: 12.5557\n",
            "Epoch 36/100\n",
            "2/2 [==============================] - 0s 13ms/step - loss: 11.5796 - mae: 11.5796\n",
            "Epoch 37/100\n",
            "2/2 [==============================] - 0s 15ms/step - loss: 10.5276 - mae: 10.5276\n",
            "Epoch 38/100\n",
            "2/2 [==============================] - 0s 23ms/step - loss: 9.5463 - mae: 9.5463\n",
            "Epoch 39/100\n",
            "2/2 [==============================] - 0s 16ms/step - loss: 8.5622 - mae: 8.5622\n",
            "Epoch 40/100\n",
            "2/2 [==============================] - 0s 17ms/step - loss: 7.6337 - mae: 7.6337\n",
            "Epoch 41/100\n",
            "2/2 [==============================] - 0s 15ms/step - loss: 6.7230 - mae: 6.7230\n",
            "Epoch 42/100\n",
            "2/2 [==============================] - 0s 21ms/step - loss: 5.9032 - mae: 5.9032\n",
            "Epoch 43/100\n",
            "2/2 [==============================] - 0s 20ms/step - loss: 5.1314 - mae: 5.1314\n",
            "Epoch 44/100\n",
            "2/2 [==============================] - 0s 19ms/step - loss: 4.5742 - mae: 4.5742\n",
            "Epoch 45/100\n",
            "2/2 [==============================] - 0s 18ms/step - loss: 4.2307 - mae: 4.2307\n",
            "Epoch 46/100\n",
            "2/2 [==============================] - 0s 23ms/step - loss: 4.2386 - mae: 4.2386\n",
            "Epoch 47/100\n",
            "2/2 [==============================] - 0s 14ms/step - loss: 4.3558 - mae: 4.3558\n",
            "Epoch 48/100\n",
            "2/2 [==============================] - 0s 13ms/step - loss: 4.4693 - mae: 4.4693\n",
            "Epoch 49/100\n",
            "2/2 [==============================] - 0s 21ms/step - loss: 4.4775 - mae: 4.4775\n",
            "Epoch 50/100\n",
            "2/2 [==============================] - 0s 13ms/step - loss: 4.4453 - mae: 4.4453\n",
            "Epoch 51/100\n",
            "2/2 [==============================] - 0s 11ms/step - loss: 4.4187 - mae: 4.4187\n",
            "Epoch 52/100\n",
            "2/2 [==============================] - 0s 15ms/step - loss: 4.3477 - mae: 4.3477\n",
            "Epoch 53/100\n",
            "2/2 [==============================] - 0s 22ms/step - loss: 4.3383 - mae: 4.3383\n",
            "Epoch 54/100\n",
            "2/2 [==============================] - 0s 14ms/step - loss: 4.3369 - mae: 4.3369\n",
            "Epoch 55/100\n",
            "2/2 [==============================] - 0s 16ms/step - loss: 4.3157 - mae: 4.3157\n",
            "Epoch 56/100\n",
            "2/2 [==============================] - 0s 13ms/step - loss: 4.2862 - mae: 4.2862\n",
            "Epoch 57/100\n",
            "2/2 [==============================] - 0s 18ms/step - loss: 4.2565 - mae: 4.2565\n",
            "Epoch 58/100\n",
            "2/2 [==============================] - 0s 13ms/step - loss: 4.2159 - mae: 4.2159\n",
            "Epoch 59/100\n",
            "2/2 [==============================] - 0s 14ms/step - loss: 4.1942 - mae: 4.1942\n",
            "Epoch 60/100\n",
            "2/2 [==============================] - 0s 16ms/step - loss: 4.1609 - mae: 4.1609\n",
            "Epoch 61/100\n",
            "2/2 [==============================] - 0s 15ms/step - loss: 4.1526 - mae: 4.1526\n",
            "Epoch 62/100\n",
            "2/2 [==============================] - 0s 9ms/step - loss: 4.1352 - mae: 4.1352\n",
            "Epoch 63/100\n",
            "2/2 [==============================] - 0s 9ms/step - loss: 4.1220 - mae: 4.1220\n",
            "Epoch 64/100\n",
            "2/2 [==============================] - 0s 10ms/step - loss: 4.1179 - mae: 4.1179\n",
            "Epoch 65/100\n",
            "2/2 [==============================] - 0s 8ms/step - loss: 4.1173 - mae: 4.1173\n",
            "Epoch 66/100\n",
            "2/2 [==============================] - 0s 8ms/step - loss: 4.1139 - mae: 4.1139\n",
            "Epoch 67/100\n",
            "2/2 [==============================] - 0s 9ms/step - loss: 4.1109 - mae: 4.1109\n",
            "Epoch 68/100\n",
            "2/2 [==============================] - 0s 8ms/step - loss: 4.1044 - mae: 4.1044\n",
            "Epoch 69/100\n",
            "2/2 [==============================] - 0s 9ms/step - loss: 4.0957 - mae: 4.0957\n",
            "Epoch 70/100\n",
            "2/2 [==============================] - 0s 7ms/step - loss: 4.0801 - mae: 4.0801\n",
            "Epoch 71/100\n",
            "2/2 [==============================] - 0s 9ms/step - loss: 4.0806 - mae: 4.0806\n",
            "Epoch 72/100\n",
            "2/2 [==============================] - 0s 8ms/step - loss: 4.0821 - mae: 4.0821\n",
            "Epoch 73/100\n",
            "2/2 [==============================] - 0s 9ms/step - loss: 4.0917 - mae: 4.0917\n",
            "Epoch 74/100\n",
            "2/2 [==============================] - 0s 9ms/step - loss: 4.0830 - mae: 4.0830\n",
            "Epoch 75/100\n",
            "2/2 [==============================] - 0s 8ms/step - loss: 4.0601 - mae: 4.0601\n",
            "Epoch 76/100\n",
            "2/2 [==============================] - 0s 8ms/step - loss: 4.0579 - mae: 4.0579\n",
            "Epoch 77/100\n",
            "2/2 [==============================] - 0s 10ms/step - loss: 4.0362 - mae: 4.0362\n",
            "Epoch 78/100\n",
            "2/2 [==============================] - 0s 9ms/step - loss: 4.0801 - mae: 4.0801\n",
            "Epoch 79/100\n",
            "2/2 [==============================] - 0s 11ms/step - loss: 4.0850 - mae: 4.0850\n",
            "Epoch 80/100\n",
            "2/2 [==============================] - 0s 10ms/step - loss: 4.0940 - mae: 4.0940\n",
            "Epoch 81/100\n",
            "2/2 [==============================] - 0s 8ms/step - loss: 4.0923 - mae: 4.0923\n",
            "Epoch 82/100\n",
            "2/2 [==============================] - 0s 9ms/step - loss: 4.0768 - mae: 4.0768\n",
            "Epoch 83/100\n",
            "2/2 [==============================] - 0s 7ms/step - loss: 4.0582 - mae: 4.0582\n",
            "Epoch 84/100\n",
            "2/2 [==============================] - 0s 8ms/step - loss: 4.0369 - mae: 4.0369\n",
            "Epoch 85/100\n",
            "2/2 [==============================] - 0s 9ms/step - loss: 4.0144 - mae: 4.0144\n",
            "Epoch 86/100\n",
            "2/2 [==============================] - 0s 8ms/step - loss: 3.9995 - mae: 3.9995\n",
            "Epoch 87/100\n",
            "2/2 [==============================] - 0s 8ms/step - loss: 3.9810 - mae: 3.9810\n",
            "Epoch 88/100\n",
            "2/2 [==============================] - 0s 9ms/step - loss: 4.0009 - mae: 4.0009\n",
            "Epoch 89/100\n",
            "2/2 [==============================] - 0s 8ms/step - loss: 4.0617 - mae: 4.0617\n",
            "Epoch 90/100\n",
            "2/2 [==============================] - 0s 8ms/step - loss: 4.1293 - mae: 4.1293\n",
            "Epoch 91/100\n",
            "2/2 [==============================] - 0s 8ms/step - loss: 4.1309 - mae: 4.1309\n",
            "Epoch 92/100\n",
            "2/2 [==============================] - 0s 7ms/step - loss: 4.0706 - mae: 4.0706\n",
            "Epoch 93/100\n",
            "2/2 [==============================] - 0s 7ms/step - loss: 4.0204 - mae: 4.0204\n",
            "Epoch 94/100\n",
            "2/2 [==============================] - 0s 8ms/step - loss: 3.9820 - mae: 3.9820\n",
            "Epoch 95/100\n",
            "2/2 [==============================] - 0s 10ms/step - loss: 3.9573 - mae: 3.9573\n",
            "Epoch 96/100\n",
            "2/2 [==============================] - 0s 10ms/step - loss: 3.9906 - mae: 3.9906\n",
            "Epoch 97/100\n",
            "2/2 [==============================] - 0s 9ms/step - loss: 3.9821 - mae: 3.9821\n",
            "Epoch 98/100\n",
            "2/2 [==============================] - 0s 14ms/step - loss: 3.9828 - mae: 3.9828\n",
            "Epoch 99/100\n",
            "2/2 [==============================] - 0s 7ms/step - loss: 3.9755 - mae: 3.9755\n",
            "Epoch 100/100\n",
            "2/2 [==============================] - 0s 7ms/step - loss: 3.9569 - mae: 3.9569\n"
          ]
        },
        {
          "output_type": "execute_result",
          "data": {
            "text/plain": [
              "<keras.src.callbacks.History at 0x7bb55cec9a20>"
            ]
          },
          "metadata": {},
          "execution_count": 215
        }
      ]
    },
    {
      "cell_type": "code",
      "source": [
        "y_pred2 = model2.predict(X_test)\n",
        "y_pred2"
      ],
      "metadata": {
        "colab": {
          "base_uri": "https://localhost:8080/"
        },
        "id": "_yRUV8npoL9W",
        "outputId": "c3a2520d-5d47-4312-abdb-6779981837c7"
      },
      "execution_count": 216,
      "outputs": [
        {
          "output_type": "stream",
          "name": "stdout",
          "text": [
            "1/1 [==============================] - 0s 59ms/step\n"
          ]
        },
        {
          "output_type": "execute_result",
          "data": {
            "text/plain": [
              "array([[ 73.73331 ],\n",
              "       [ 78.57571 ],\n",
              "       [ 83.41812 ],\n",
              "       [ 88.26054 ],\n",
              "       [ 93.10294 ],\n",
              "       [ 97.94536 ],\n",
              "       [102.787766],\n",
              "       [107.63019 ],\n",
              "       [112.472595],\n",
              "       [117.31502 ]], dtype=float32)"
            ]
          },
          "metadata": {},
          "execution_count": 216
        }
      ]
    },
    {
      "cell_type": "code",
      "source": [
        "plot_predictions(predictions= y_pred2)"
      ],
      "metadata": {
        "colab": {
          "base_uri": "https://localhost:8080/",
          "height": 420
        },
        "id": "g34He92poYzx",
        "outputId": "89203b9b-907a-4f39-cbf7-130626bfdbe6"
      },
      "execution_count": 217,
      "outputs": [
        {
          "output_type": "display_data",
          "data": {
            "text/plain": [
              "<Figure size 1200x700 with 1 Axes>"
            ],
            "image/png": "[encoded data removed]"
          },
          "metadata": {}
        }
      ]
    },
    {
      "cell_type": "code",
      "source": [
        "#Save model\n",
        "model2.save(filepath=\"FirstTensorflow\")"
      ],
      "metadata": {
        "id": "ggqS53jooeUU"
      },
      "execution_count": 219,
      "outputs": []
    },
    {
      "cell_type": "code",
      "source": [
        "load_first_tesnsor_model = tf.keras.models.load_model(\"/content/FirstTensorflow\")"
      ],
      "metadata": {
        "id": "XdtKyHhBqjU2"
      },
      "execution_count": 222,
      "outputs": []
    },
    {
      "cell_type": "code",
      "source": [
        "load_first_tesnsor_model.summary()"
      ],
      "metadata": {
        "colab": {
          "base_uri": "https://localhost:8080/"
        },
        "id": "_MYCrQy5r-ae",
        "outputId": "1b75658d-f443-4fba-9611-8d47378e7c13"
      },
      "execution_count": 224,
      "outputs": [
        {
          "output_type": "stream",
          "name": "stdout",
          "text": [
            "Model: \"sequential_30\"\n",
            "_________________________________________________________________\n",
            " Layer (type)                Output Shape              Param #   \n",
            "=================================================================\n",
            " dense_46 (Dense)            (None, 100)               200       \n",
            "                                                                 \n",
            " dense_47 (Dense)            (None, 1)                 101       \n",
            "                                                                 \n",
            "=================================================================\n",
            "Total params: 301 (1.18 KB)\n",
            "Trainable params: 301 (1.18 KB)\n",
            "Non-trainable params: 0 (0.00 Byte)\n",
            "_________________________________________________________________\n"
          ]
        }
      ]
    },
    {
      "cell_type": "code",
      "source": [
        "model2.summary()"
      ],
      "metadata": {
        "colab": {
          "base_uri": "https://localhost:8080/"
        },
        "id": "6wPLHREPsagw",
        "outputId": "7c52ecc9-f418-458a-d539-0bca7b3fdd71"
      },
      "execution_count": 225,
      "outputs": [
        {
          "output_type": "stream",
          "name": "stdout",
          "text": [
            "Model: \"sequential_30\"\n",
            "_________________________________________________________________\n",
            " Layer (type)                Output Shape              Param #   \n",
            "=================================================================\n",
            " dense_46 (Dense)            (None, 100)               200       \n",
            "                                                                 \n",
            " dense_47 (Dense)            (None, 1)                 101       \n",
            "                                                                 \n",
            "=================================================================\n",
            "Total params: 301 (1.18 KB)\n",
            "Trainable params: 301 (1.18 KB)\n",
            "Non-trainable params: 0 (0.00 Byte)\n",
            "_________________________________________________________________\n"
          ]
        }
      ]
    },
    {
      "cell_type": "code",
      "source": [],
      "metadata": {
        "id": "45f3vYArsdtj"
      },
      "execution_count": null,
      "outputs": []
    }
  ]
}